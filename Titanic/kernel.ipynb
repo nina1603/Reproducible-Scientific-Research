{
  "cells": [
    {
      "metadata": {
        "_uuid": "8f2839f25d086af736a60e9eeb907d3b93b6e0e5",
        "_cell_guid": "b1076dfc-b9ad-4769-8c92-a6c4dae69d19",
        "trusted": true
      },
      "cell_type": "code",
      "source": "import numpy as np\nimport pandas as pd\nimport os\nimport matplotlib.pyplot as plt\nimport seaborn as sns\n\nimport warnings\nwarnings.filterwarnings('ignore')\n\nfrom sklearn.metrics import confusion_matrix\nfrom sklearn.metrics import accuracy_score\nfrom sklearn.model_selection import train_test_split\nfrom sklearn.svm import LinearSVC\nfrom sklearn.linear_model import LogisticRegression\nfrom sklearn.neighbors import KNeighborsClassifier\nfrom sklearn.ensemble import AdaBoostClassifier\nfrom sklearn.ensemble import BaggingClassifier\nfrom sklearn.ensemble import ExtraTreesClassifier\nfrom sklearn.ensemble import GradientBoostingClassifier\nfrom sklearn.ensemble import RandomForestClassifier\nfrom xgboost import XGBClassifier",
      "execution_count": null,
      "outputs": []
    },
    {
      "metadata": {
        "trusted": true,
        "_uuid": "296aedd026e6301370be6999747ddec517ddd5bb"
      },
      "cell_type": "code",
      "source": "print(os.listdir(\"../input\"))",
      "execution_count": null,
      "outputs": []
    },
    {
      "metadata": {
        "_cell_guid": "79c7e3d0-c299-4dcb-8224-4455121ee9b0",
        "_uuid": "d629ff2d2480ee46fbb7e2d37f6b5fab8052498a",
        "trusted": true
      },
      "cell_type": "code",
      "source": "pd.set_option('display.expand_frame_repr', False)",
      "execution_count": null,
      "outputs": []
    },
    {
      "metadata": {
        "trusted": true,
        "_uuid": "5386148de09491f5acab2e3adef16243730f4c13"
      },
      "cell_type": "code",
      "source": "train = pd.read_csv(\"../input/train.csv\")\ntest = pd.read_csv(\"../input/test.csv\")",
      "execution_count": null,
      "outputs": []
    },
    {
      "metadata": {
        "_uuid": "ddc994e83e9b50d9180adea3f4c6cd0623cac9cf"
      },
      "cell_type": "markdown",
      "source": "**Exploring the Data**"
    },
    {
      "metadata": {
        "trusted": true,
        "_uuid": "39365f5a5ae8f05c783daa7727e637f2e9c463fa"
      },
      "cell_type": "code",
      "source": "print('Train shape:', train.shape)\nprint('Test shape:', test.shape)",
      "execution_count": null,
      "outputs": []
    },
    {
      "metadata": {
        "trusted": true,
        "_uuid": "8ab600c851eabd681f4b4b811732c159496a7c1b",
        "scrolled": false
      },
      "cell_type": "code",
      "source": "print(train.columns.values)\ntrain.describe(include = 'all')",
      "execution_count": null,
      "outputs": []
    },
    {
      "metadata": {
        "trusted": true,
        "_uuid": "331192fd7ea1273df7ea3d3e80ee7340aa81992f"
      },
      "cell_type": "code",
      "source": "print(train.dtypes)\nprint()\n#Explore Nan values in each column\nprint(train.isna().sum())",
      "execution_count": null,
      "outputs": []
    },
    {
      "metadata": {
        "trusted": true,
        "scrolled": false,
        "_uuid": "e8527b7e841659bff922b18f67051814ba249c8d"
      },
      "cell_type": "code",
      "source": "print(test.dtypes)\nprint()\nprint(test.isna().sum())",
      "execution_count": null,
      "outputs": []
    },
    {
      "metadata": {
        "trusted": true,
        "_uuid": "6efd5533af4c9c31b3971c39c5c5ab19e33f2c6b"
      },
      "cell_type": "code",
      "source": "# Check the correlation for the current numeric feature set.\nprint(train[['Survived', 'Pclass', 'Age', 'SibSp', 'Parch', 'Fare']].corr())\nsns.heatmap(train[['Survived', 'Pclass', 'Age', 'SibSp', 'Parch', 'Fare']].corr(),\\\n            annot = True, fmt = \".2f\", cmap = \"coolwarm\")",
      "execution_count": null,
      "outputs": []
    },
    {
      "metadata": {
        "trusted": true,
        "_uuid": "ed50974d16111a34fb1acd874d11251692f2920c"
      },
      "cell_type": "code",
      "source": "mask = np.zeros_like(train[['Survived', 'Pclass', 'Age', 'SibSp', 'Parch', 'Fare']].corr())\nmask[np.triu_indices_from(mask)] = True\nsns.heatmap(train[['Survived', 'Pclass', 'Age', 'SibSp', 'Parch', 'Fare']].corr(), \\\n            annot = True, fmt = \".2f\", cmap = \"coolwarm\", mask = mask)",
      "execution_count": null,
      "outputs": []
    },
    {
      "metadata": {
        "_uuid": "8acae6838a902ef6787892b69098d1ab5a1bed99"
      },
      "cell_type": "markdown",
      "source": "**Exploring the data**"
    },
    {
      "metadata": {
        "trusted": true,
        "_uuid": "a773d35c884107ab13bd665ecdfb0e0f5b9e680a"
      },
      "cell_type": "code",
      "source": "print(train.columns.values)",
      "execution_count": null,
      "outputs": []
    },
    {
      "metadata": {
        "_uuid": "e562aa01e8c11d5a48c182e177b93e349c6f3a19"
      },
      "cell_type": "markdown",
      "source": "**Pclass:** -0.33 means the higher the less is the chance"
    },
    {
      "metadata": {
        "trusted": true,
        "_uuid": "f070e44d258f15002d477c841de45526801f542f"
      },
      "cell_type": "code",
      "source": "# the relation between Pclass and Survived and mouthache boxes\nprint(train[['Pclass', 'Survived']].groupby(['Pclass']).mean())\nsns.catplot(x = 'Pclass', y = 'Survived',  kind = 'bar', data = train)",
      "execution_count": null,
      "outputs": []
    },
    {
      "metadata": {
        "_uuid": "340b4861a54c7eb765e1529504117a2326ff24ee"
      },
      "cell_type": "markdown",
      "source": "**Sex:**\n\n\n\n"
    },
    {
      "metadata": {
        "trusted": true,
        "_uuid": "f32e2c55c774e320c76ee9853d27003a5a18d7df"
      },
      "cell_type": "code",
      "source": "print(train[['Sex', 'Survived']].groupby(['Sex']).mean())\nsns.catplot(x = 'Sex', y = 'Survived',  kind = 'bar', data = train)",
      "execution_count": null,
      "outputs": []
    },
    {
      "metadata": {
        "_uuid": "680c07eb760a3a4eaf0269c2a6a82e5e46db0552"
      },
      "cell_type": "markdown",
      "source": "**Sex AND Age**"
    },
    {
      "metadata": {
        "trusted": true,
        "_uuid": "559266e03bc54fbd278e992dce2b1457615a5c86"
      },
      "cell_type": "code",
      "source": "palette = 'viridis'\nfor sex in ('male', 'female'):\n    tr = train[train['Sex'] == sex]\n    age_bins = pd.qcut(tr['Age'], 20)\n    df = tr.groupby(age_bins)['Survived'].mean()\n    \n    plt.figure(figsize=(12,4)).suptitle(f'Survived wrt. Age ({sex})', fontsize=15);\n    sns.barplot(df.index, df.values, palette = palette).set_xticklabels(df.index, rotation=90);",
      "execution_count": null,
      "outputs": []
    },
    {
      "metadata": {
        "_uuid": "ee26d84ba3c1548d621462e9ea6ae48948b5d2a3"
      },
      "cell_type": "markdown",
      "source": "> ***PClass AND Gender*** "
    },
    {
      "metadata": {
        "trusted": true,
        "_uuid": "1b64eb6c73fd5ba931da39b39d6c84716e9787e1"
      },
      "cell_type": "code",
      "source": "sns.catplot(x = 'Sex', y = 'Survived',  kind = 'bar', data = train, hue = 'Pclass')",
      "execution_count": null,
      "outputs": []
    },
    {
      "metadata": {
        "_uuid": "232e7394cd494a5d09ca55d3ae7b00fa3ae60a19"
      },
      "cell_type": "markdown",
      "source": "**Fare:**"
    },
    {
      "metadata": {
        "trusted": true,
        "scrolled": true,
        "_uuid": "4702c981400e8c1877f0a47858e62b90133b06e3"
      },
      "cell_type": "code",
      "source": "f = sns.FacetGrid(train, col = 'Survived')\nf = f.map(sns.distplot, \"Fare\")",
      "execution_count": null,
      "outputs": []
    },
    {
      "metadata": {
        "trusted": true,
        "_uuid": "bdd1b06c767515727399e88911f373ef84e0240d"
      },
      "cell_type": "code",
      "source": "group = pd.cut(train.Fare, [0, 50, 100, 150, 200, 550])\npiv_fare = train.pivot_table(index = group, columns = 'Survived', values = 'Fare', aggfunc = 'count')\npiv_fare.plot(kind = 'bar')",
      "execution_count": null,
      "outputs": []
    },
    {
      "metadata": {
        "_uuid": "39c50db814a4d138a51e452c4d3277e33bde53ae"
      },
      "cell_type": "markdown",
      "source": "**Age:**"
    },
    {
      "metadata": {
        "trusted": true,
        "_uuid": "b12dae7204524c7a25dd9655cc7d4817acbcd8fe"
      },
      "cell_type": "code",
      "source": "ag = sns.FacetGrid(train, col = 'Survived')\nag = ag.map(sns.distplot, \"Age\")",
      "execution_count": null,
      "outputs": []
    },
    {
      "metadata": {
        "trusted": true,
        "_uuid": "35d1bff493f92f3331e0dc62605e9a3757e6b083"
      },
      "cell_type": "code",
      "source": "group = pd.cut(train.Age, [0, 14, 30, 60, 100])\npiv_fare = train.pivot_table(index = group, columns = 'Survived', values = 'Age', aggfunc = 'count')\npiv_fare.plot(kind = 'bar')",
      "execution_count": null,
      "outputs": []
    },
    {
      "metadata": {
        "_uuid": "1c6d5bb3bbbef7f1aa4f29277ffc63fd1b4c04eb"
      },
      "cell_type": "markdown",
      "source": "Through this bar plot we can confirm that children did have a higher chance of survival"
    },
    {
      "metadata": {
        "_uuid": "429f326206a144e647f53a17c4d5a8a632367087"
      },
      "cell_type": "markdown",
      "source": "**Embarked:**"
    },
    {
      "metadata": {
        "trusted": true,
        "_uuid": "260614fc7c78520e5ea488eb80120a6677e418d3"
      },
      "cell_type": "code",
      "source": "print(train[['Embarked', 'Survived']].groupby(['Embarked']).mean())\nsns.catplot(x = 'Embarked', y = 'Survived',  kind = 'bar', data = train)",
      "execution_count": null,
      "outputs": []
    },
    {
      "metadata": {
        "trusted": true,
        "scrolled": true,
        "_uuid": "a3749fc79fdff55e3e79bbf7d033424ffb033f65"
      },
      "cell_type": "code",
      "source": "sns.catplot('Pclass', kind = 'count', col = 'Embarked', data = train)",
      "execution_count": null,
      "outputs": []
    },
    {
      "metadata": {
        "_uuid": "3a0606efc841202284bf0e16af9493464adb471e"
      },
      "cell_type": "markdown",
      "source": "**SibSp and Parch**"
    },
    {
      "metadata": {
        "trusted": true,
        "_uuid": "d930ac7f6c8065a0d0304108089a3e7458ee2c8e"
      },
      "cell_type": "code",
      "source": "print(train[['SibSp', 'Survived']].groupby(['SibSp']).mean())\nsns.catplot(x = 'SibSp', y = 'Survived', data = train, kind = 'bar')",
      "execution_count": null,
      "outputs": []
    },
    {
      "metadata": {
        "trusted": true,
        "_uuid": "c1eebd03bc00c325e4faba5982f62b76aa896892"
      },
      "cell_type": "code",
      "source": "print(train[['Parch', 'Survived']].groupby(['Parch']).mean())\nsns.catplot(x = 'Parch', y = 'Survived', data = train, kind = 'bar')",
      "execution_count": null,
      "outputs": []
    },
    {
      "metadata": {
        "_uuid": "27e56b2ffa67ef7c0989a5b46eb78f15280956c3"
      },
      "cell_type": "markdown",
      "source": "**Name**"
    },
    {
      "metadata": {
        "trusted": true,
        "_uuid": "85212357e521a25e643247d982913d61a68c21ba",
        "scrolled": true
      },
      "cell_type": "code",
      "source": "print(train.Name.head(1))",
      "execution_count": null,
      "outputs": []
    },
    {
      "metadata": {
        "trusted": true,
        "_uuid": "b5a7e8e3da62609c29f3aca3c3fe749866647820"
      },
      "cell_type": "code",
      "source": "print(train.Name.head(1).str.split(','))",
      "execution_count": null,
      "outputs": []
    },
    {
      "metadata": {
        "trusted": true,
        "_uuid": "cf0595d0c653ce8279fe98d7be53ab434e2796f9"
      },
      "cell_type": "code",
      "source": "for dataset in [train, test]:\n    dataset['Title'] = dataset['Name'].str.split(',').str[1].str.split('.').str[0].str.strip()\n    print(dataset['Title'].value_counts())\n    print()",
      "execution_count": null,
      "outputs": []
    },
    {
      "metadata": {
        "_uuid": "aa18e94b7cc9851a0cf833d74c7b26fbb3c370ff",
        "trusted": true
      },
      "cell_type": "code",
      "source": "sns.catplot(x = 'Survived', y = 'Title', data = train, kind = 'bar')",
      "execution_count": null,
      "outputs": []
    },
    {
      "metadata": {
        "_uuid": "9148c3f5d8cf450a29dbde965b053b14558a3a4c"
      },
      "cell_type": "markdown",
      "source": "**Ticket**"
    },
    {
      "metadata": {
        "trusted": true,
        "_uuid": "048ce399ff1eaf31c361c5ee3703988c809c1095"
      },
      "cell_type": "code",
      "source": "print(train[['Ticket', 'Survived']].groupby(['Ticket']).mean())\nsns.catplot(x = 'Ticket', y = 'Survived',  kind = 'bar', data = train)",
      "execution_count": null,
      "outputs": []
    },
    {
      "metadata": {
        "_uuid": "b3bbe92f3fa1444c00718a003a9753ef56a7aa92"
      },
      "cell_type": "markdown",
      "source": "### ***About null***"
    },
    {
      "metadata": {
        "trusted": true,
        "_uuid": "d181b1cd715ac9c6b652612366a6cb93443b1376"
      },
      "cell_type": "code",
      "source": "for df in [train, test]:\n    print(df.shape)\n    print()\n    print(df.isna().sum())",
      "execution_count": null,
      "outputs": []
    },
    {
      "metadata": {
        "trusted": true,
        "_uuid": "ea9a903c491cb0d2308b8ae4fc03835b5c843958",
        "scrolled": true
      },
      "cell_type": "code",
      "source": "# Drop rows with nulls for Embarked\nfor df in [train, test]:\n    df.dropna(subset = ['Embarked'], inplace = True)",
      "execution_count": null,
      "outputs": []
    },
    {
      "metadata": {
        "_uuid": "d602989426e9a9780b7f4a9b04f57a6df330198b"
      },
      "cell_type": "markdown",
      "source": "**Fare**"
    },
    {
      "metadata": {
        "trusted": true,
        "_uuid": "b598ecf6b0f108b63165d13f80683230a4cee7ca",
        "scrolled": false
      },
      "cell_type": "code",
      "source": "print(train[train['Fare'].isnull()])\n\nprint(test[test['Fare'].isnull()])\n# We can deduce that Pclass should be related to Fares.\nsns.catplot(x = 'Pclass', y = 'Fare', data = test, kind = 'point')",
      "execution_count": null,
      "outputs": []
    },
    {
      "metadata": {
        "trusted": true,
        "_uuid": "4d0a891c5ae0caffe38a3f752a89e55aafcf578a"
      },
      "cell_type": "code",
      "source": "# There is a clear relation between Pclass and Fare. We can use this information to impute the missing fare value.\n# We see that the passenger is from Pclass 3. So we take a median value for all the Pclass 3 fares.\ntest['Fare'].fillna(test[test['Pclass'] == 3].Fare.median(), inplace = True)",
      "execution_count": null,
      "outputs": []
    },
    {
      "metadata": {
        "_uuid": "2c714812ca14931579cc79e314f1f55078750c6e"
      },
      "cell_type": "markdown",
      "source": "**Age**\n\nApproaching missing ages by using titles (Ms, Mrs and so on)"
    },
    {
      "metadata": {
        "trusted": true,
        "_uuid": "96c48143b4179ecff51d5a9dc01cf41ba405853a"
      },
      "cell_type": "code",
      "source": "print(train[['Age','Title']].groupby('Title').mean())\nsns.catplot(x = 'Age', y = 'Title', data = train, kind = 'bar')",
      "execution_count": null,
      "outputs": []
    },
    {
      "metadata": {
        "trusted": true,
        "_uuid": "864c790d9c3906e8123dbe207f4ce74b308b00f1"
      },
      "cell_type": "code",
      "source": "def getTitle(series):\n    return series.str.split(',').str[1].str.split('.').str[0].str.strip()\nprint(getTitle(train[train.Age.isnull()].Name).value_counts())\n\nmr_mask = train['Title'] == 'Mr'\nmiss_mask = train['Title'] == 'Miss'\nmrs_mask = train['Title'] == 'Mrs'\nmaster_mask = train['Title'] == 'Master'\ndr_mask = train['Title'] == 'Dr'\ntrain.loc[mr_mask, 'Age'] = train.loc[mr_mask, 'Age'].fillna(train[train.Title == 'Mr'].Age.mean())\ntrain.loc[miss_mask, 'Age'] = train.loc[miss_mask, 'Age'].fillna(train[train.Title == 'Miss'].Age.mean())\ntrain.loc[mrs_mask, 'Age'] = train.loc[mrs_mask, 'Age'].fillna(train[train.Title == 'Mrs'].Age.mean())\ntrain.loc[master_mask, 'Age'] = train.loc[master_mask, 'Age'].fillna(train[train.Title == 'Master'].Age.mean())\ntrain.loc[dr_mask, 'Age'] = train.loc[dr_mask, 'Age'].fillna(train[train.Title == 'Dr'].Age.mean())\nprint()",
      "execution_count": null,
      "outputs": []
    },
    {
      "metadata": {
        "trusted": true,
        "_uuid": "62724c5ec6f8a428f638f173643a737920462b04"
      },
      "cell_type": "code",
      "source": "print(getTitle(train[train.Age.isnull()].Name).value_counts())",
      "execution_count": null,
      "outputs": []
    },
    {
      "metadata": {
        "trusted": true,
        "_uuid": "557fb03dfe73801204739f4d5c440119396e2b73"
      },
      "cell_type": "code",
      "source": "print(getTitle(test[test.Age.isnull()].Name).value_counts())\n\nmr_mask = test['Title'] == 'Mr'\nmiss_mask = test['Title'] == 'Miss'\nmrs_mask = test['Title'] == 'Mrs'\nmaster_mask = test['Title'] == 'Master'\nms_mask = test['Title'] == 'Ms'\ntest.loc[mr_mask, 'Age'] = test.loc[mr_mask, 'Age'].fillna(test[test.Title == 'Mr'].Age.mean())\ntest.loc[miss_mask, 'Age'] = test.loc[miss_mask, 'Age'].fillna(test[test.Title == 'Miss'].Age.mean())\ntest.loc[mrs_mask, 'Age'] = test.loc[mrs_mask, 'Age'].fillna(test[test.Title == 'Mrs'].Age.mean())\ntest.loc[master_mask, 'Age'] = test.loc[master_mask, 'Age'].fillna(test[test.Title == 'Master'].Age.mean())\ntest.loc[ms_mask, 'Age'] = test.loc[ms_mask, 'Age'].fillna(test[test.Title == 'Ms'].Age.mean())",
      "execution_count": null,
      "outputs": []
    },
    {
      "metadata": {
        "trusted": true,
        "_uuid": "b4baea055e1aad88ed807647b53b53c1e61152a9"
      },
      "cell_type": "code",
      "source": "print(getTitle(test[test.Age.isnull()].Name).value_counts())",
      "execution_count": null,
      "outputs": []
    },
    {
      "metadata": {
        "trusted": true,
        "_uuid": "fbef0da985472daecbbbe5f81b0b25968387b0d1"
      },
      "cell_type": "code",
      "source": "print(train.isna().sum())\nprint(test.isna().sum())",
      "execution_count": null,
      "outputs": []
    },
    {
      "metadata": {
        "trusted": true,
        "_uuid": "8c2b491b15ebdb5e604552b06f291f75f6fda79f"
      },
      "cell_type": "code",
      "source": "train.drop(columns=['PassengerId'], inplace = True)\n[df.drop(columns=['Ticket'], inplace = True) for df in [train, test]]",
      "execution_count": null,
      "outputs": []
    },
    {
      "metadata": {
        "_uuid": "76e45b219796271bf5024aac3907503b31a6160a"
      },
      "cell_type": "markdown",
      "source": "Encode all the categorical features. One of things to lookout for is the Dummy Trap"
    },
    {
      "metadata": {
        "trusted": true,
        "_uuid": "51511db57fdb4b69999601c7449e20b83e8860bf"
      },
      "cell_type": "code",
      "source": "[train, test] = [pd.get_dummies(data = df, columns = ['Pclass', 'Sex', 'Embarked']) for df in [train, test]]",
      "execution_count": null,
      "outputs": []
    },
    {
      "metadata": {
        "trusted": true,
        "_uuid": "0f33ea2d16a467ca5c3a3da0a2952a3665587a29"
      },
      "cell_type": "code",
      "source": "for df in [train, test]:\n    df['HasCabin'] = df['Cabin'].notna().astype(int)\n    df['FamilySize'] = df['SibSp'] + df['Parch'] + 1\n    df['IsAlone'] = (df['FamilySize'] > 1).astype(int)",
      "execution_count": null,
      "outputs": []
    },
    {
      "metadata": {
        "trusted": true,
        "_uuid": "77a8b4eb170f988b4a91e2e8a0e1c093cc7542fa"
      },
      "cell_type": "code",
      "source": "[df.drop(columns=['Cabin', 'SibSp', 'Parch'], inplace = True) for df in [train, test]]",
      "execution_count": null,
      "outputs": []
    },
    {
      "metadata": {
        "trusted": true,
        "_uuid": "5261d4479dd18d1ad560a425b62daa335aa51240"
      },
      "cell_type": "code",
      "source": "print(test)",
      "execution_count": null,
      "outputs": []
    },
    {
      "metadata": {
        "trusted": true,
        "_uuid": "e570cde36ce7c008c32b7c5d7c060c1260046c7b"
      },
      "cell_type": "code",
      "source": "[df.drop(columns=['Name'], inplace = True) for df in [train, test]]\n[train, test] = [pd.get_dummies(data = df, columns = ['Title']) for df in [train, test]]",
      "execution_count": null,
      "outputs": []
    },
    {
      "metadata": {
        "trusted": true,
        "_uuid": "955c4352de14e3cf86ab7085c398afb34b32a65e"
      },
      "cell_type": "code",
      "source": "print(train.columns.values)\nprint(test.columns.values)",
      "execution_count": null,
      "outputs": []
    },
    {
      "metadata": {
        "trusted": true,
        "_uuid": "ee326415773ea4b8f4fc8be7c93de2d8c506da61"
      },
      "cell_type": "code",
      "source": "train.corr()",
      "execution_count": null,
      "outputs": []
    },
    {
      "metadata": {
        "trusted": true,
        "_uuid": "c6b0ac269139db436172749f5af3ca71b0e2039d"
      },
      "cell_type": "code",
      "source": "X = train[['Fare', 'Pclass_1', 'Pclass_3', 'Sex_female', 'Embarked_C', 'Embarked_S', 'HasCabin', 'IsAlone', 'Title_Master', 'Title_Miss', 'Title_Mr', 'Title_Mrs']]\ny = train['Survived']\n\nX_train, X_test, y_train, y_test = train_test_split(X, y, test_size = 0.1)\nprint(X_train.shape, X_test.shape)",
      "execution_count": null,
      "outputs": []
    },
    {
      "metadata": {
        "trusted": true,
        "_uuid": "dc180edda7b510cb4962a5679d883c5ba98c7894"
      },
      "cell_type": "code",
      "source": "print(y.value_counts())",
      "execution_count": null,
      "outputs": []
    },
    {
      "metadata": {
        "trusted": true,
        "_uuid": "0ec6ca90aa53c79254c074a1b08b0fa3bee0ca23"
      },
      "cell_type": "code",
      "source": "y_default = pd.Series([0] * train['Survived'].shape[0], name = 'Survived')\nprint(y_default.value_counts())",
      "execution_count": null,
      "outputs": []
    },
    {
      "metadata": {
        "trusted": true,
        "_uuid": "ca587b8d2cb36363e4f9f29e125b5e28ee360b3a"
      },
      "cell_type": "code",
      "source": "print(confusion_matrix(y, y_default))\nprint()\nprint(accuracy_score(y, y_default))\n#Initial accuracy",
      "execution_count": null,
      "outputs": []
    },
    {
      "metadata": {
        "_uuid": "c2776b261ef0443e44435a88e8c2004db00ccbea"
      },
      "cell_type": "markdown",
      "source": "**Extimator**"
    },
    {
      "metadata": {
        "trusted": true,
        "_uuid": "0118cd1150a498d6385bb05952d102769e4a2ccb"
      },
      "cell_type": "code",
      "source": "print(\"LinearSVC\")\nclassifier = LinearSVC(dual = False)\nclassifier.fit(X_train, y_train)\ny_pred = classifier.predict(X_test)\nprint(confusion_matrix(y_test, y_pred))\nprint(accuracy_score(y_test, y_pred))",
      "execution_count": null,
      "outputs": []
    },
    {
      "metadata": {
        "trusted": true,
        "_uuid": "f1048915314eebf67512733bc00766870aec15da"
      },
      "cell_type": "code",
      "source": "print(\"Logistic Regression\")\nclassifier = LogisticRegression(random_state=0, solver='lbfgs', multi_class='multinomial').fit(X, y)\nclassifier.fit(X_train, y_train)\ny_pred = classifier.predict(X_test)\nprint(confusion_matrix(y_test, y_pred))\nprint(accuracy_score(y_test, y_pred))",
      "execution_count": null,
      "outputs": []
    },
    {
      "metadata": {
        "trusted": true,
        "_uuid": "8fdc870c9216f5039209845b071789743396b6cb"
      },
      "cell_type": "code",
      "source": "print(\"KNeighborsClassifier\")\nclassifier = KNeighborsClassifier(n_neighbors = 2)\nclassifier.fit(X_train, y_train)\ny_pred = classifier.predict(X_test)\nprint(confusion_matrix(y_test, y_pred))\nprint(accuracy_score(y_test, y_pred))",
      "execution_count": null,
      "outputs": []
    },
    {
      "metadata": {
        "trusted": true,
        "_uuid": "671bb61bc2a973abb809a92c4c4db9bcc0cc4edb"
      },
      "cell_type": "code",
      "source": "print(\"AdaBoostClassifier\")\nclassifier = AdaBoostClassifier()\nclassifier.fit(X_train, y_train)\ny_pred = classifier.predict(X_test)\nprint(confusion_matrix(y_test, y_pred))\nprint(accuracy_score(y_test, y_pred))\nprint(\"BaggingClassifier\")\nclassifier = BaggingClassifier()\nclassifier.fit(X_train, y_train)\ny_pred = classifier.predict(X_test)\nprint(confusion_matrix(y_test, y_pred))\nprint(accuracy_score(y_test, y_pred))",
      "execution_count": null,
      "outputs": []
    },
    {
      "metadata": {
        "trusted": true,
        "_uuid": "c6ed248319c13a2acbdf8a87509fb1e9c47237f8"
      },
      "cell_type": "code",
      "source": "classifier = XGBClassifier()\nclassifier.fit(X_train, y_train)\ny_pred = classifier.predict(X_test)\n\nprint(confusion_matrix(y_test, y_pred))",
      "execution_count": null,
      "outputs": []
    },
    {
      "metadata": {
        "trusted": true,
        "_uuid": "6ce942ac19ee00c0c7903dfae32a66006b922f83"
      },
      "cell_type": "code",
      "source": "print(accuracy_score(y_test, y_pred))",
      "execution_count": null,
      "outputs": []
    },
    {
      "metadata": {
        "trusted": true,
        "_uuid": "abc24fd585c63e646aada699c4763316f454e2c9",
        "scrolled": true
      },
      "cell_type": "code",
      "source": "X_validation = test[['Fare', 'Pclass_1', 'Pclass_3', 'Sex_female', 'Embarked_C', 'Embarked_S', 'HasCabin', 'IsAlone', 'Title_Master', 'Title_Miss', 'Title_Mr', 'Title_Mrs']]",
      "execution_count": null,
      "outputs": []
    },
    {
      "metadata": {
        "trusted": true,
        "_uuid": "bf79a0a007de1eed5d1d3efa0f56d5e6e2fa90e8"
      },
      "cell_type": "code",
      "source": "y_valid = classifier.predict(X_validation)",
      "execution_count": null,
      "outputs": []
    },
    {
      "metadata": {
        "_uuid": "6a9a55d597ad0e8914aad6cd484a62fcc10f0980"
      },
      "cell_type": "markdown",
      "source": "**Submission**"
    },
    {
      "metadata": {
        "trusted": true,
        "_uuid": "a07b101fa4c5a19d3a02fa840b87ed18d27ca29f"
      },
      "cell_type": "code",
      "source": "validation_pId = test.loc[:, 'PassengerId']\nmy_submission = pd.DataFrame(data={'PassengerId':validation_pId, 'Survived':y_valid})\nprint(my_submission['Survived'].value_counts())",
      "execution_count": null,
      "outputs": []
    },
    {
      "metadata": {
        "trusted": true,
        "_uuid": "35ce5acabc16d6e8289c0678758e8b74c4ef5a91"
      },
      "cell_type": "code",
      "source": "my_submission.to_csv('submission.csv', index = False)",
      "execution_count": null,
      "outputs": []
    }
  ],
  "metadata": {
    "kernelspec": {
      "display_name": "Python 3",
      "language": "python",
      "name": "python3"
    },
    "language_info": {
      "name": "python",
      "version": "3.6.6",
      "mimetype": "text/x-python",
      "codemirror_mode": {
        "name": "ipython",
        "version": 3
      },
      "pygments_lexer": "ipython3",
      "nbconvert_exporter": "python",
      "file_extension": ".py"
    }
  },
  "nbformat": 4,
  "nbformat_minor": 1
}