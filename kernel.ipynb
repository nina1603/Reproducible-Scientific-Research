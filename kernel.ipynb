{
 "cells": [
  {
   "cell_type": "code",
   "execution_count": 1,
   "metadata": {
    "_cell_guid": "b1076dfc-b9ad-4769-8c92-a6c4dae69d19",
    "_uuid": "8f2839f25d086af736a60e9eeb907d3b93b6e0e5",
    "collapsed": true
   },
   "outputs": [],
   "source": [
    "import numpy as np\n",
    "import pandas as pd\n",
    "import os\n",
    "import matplotlib.pyplot as plt\n",
    "import seaborn as sns\n",
    "\n",
    "import warnings\n",
    "warnings.filterwarnings('ignore')\n",
    "\n",
    "from sklearn.metrics import confusion_matrix\n",
    "from sklearn.metrics import accuracy_score\n",
    "from sklearn.model_selection import train_test_split\n",
    "from sklearn.svm import LinearSVC\n",
    "from sklearn.linear_model import LogisticRegression\n",
    "from sklearn.neighbors import KNeighborsClassifier\n",
    "from sklearn.ensemble import AdaBoostClassifier\n",
    "from sklearn.ensemble import BaggingClassifier\n",
    "from sklearn.ensemble import ExtraTreesClassifier\n",
    "from sklearn.ensemble import GradientBoostingClassifier\n",
    "from sklearn.ensemble import RandomForestClassifier\n",
    "from xgboost import XGBClassifier"
   ]
  },
  {
   "cell_type": "code",
   "execution_count": 2,
   "metadata": {
    "_uuid": "5386148de09491f5acab2e3adef16243730f4c13"
   },
   "outputs": [
    {
     "ename": "FileNotFoundError",
     "evalue": "File b'train.csv' does not exist",
     "output_type": "error",
     "traceback": [
      "\u001b[0;31m---------------------------------------------------------------------------\u001b[0m",
      "\u001b[0;31mFileNotFoundError\u001b[0m                         Traceback (most recent call last)",
      "\u001b[0;32m<ipython-input-2-86dce884597e>\u001b[0m in \u001b[0;36m<module>\u001b[0;34m()\u001b[0m\n\u001b[0;32m----> 1\u001b[0;31m \u001b[0mtrain\u001b[0m \u001b[0;34m=\u001b[0m \u001b[0mpd\u001b[0m\u001b[0;34m.\u001b[0m\u001b[0mread_csv\u001b[0m\u001b[0;34m(\u001b[0m\u001b[0;34m\"train.csv\"\u001b[0m\u001b[0;34m)\u001b[0m\u001b[0;34m\u001b[0m\u001b[0m\n\u001b[0m\u001b[1;32m      2\u001b[0m \u001b[0mtest\u001b[0m \u001b[0;34m=\u001b[0m \u001b[0mpd\u001b[0m\u001b[0;34m.\u001b[0m\u001b[0mread_csv\u001b[0m\u001b[0;34m(\u001b[0m\u001b[0;34m\"test.csv\"\u001b[0m\u001b[0;34m)\u001b[0m\u001b[0;34m\u001b[0m\u001b[0m\n",
      "\u001b[0;32m~/anaconda3/lib/python3.6/site-packages/pandas/io/parsers.py\u001b[0m in \u001b[0;36mparser_f\u001b[0;34m(filepath_or_buffer, sep, delimiter, header, names, index_col, usecols, squeeze, prefix, mangle_dupe_cols, dtype, engine, converters, true_values, false_values, skipinitialspace, skiprows, nrows, na_values, keep_default_na, na_filter, verbose, skip_blank_lines, parse_dates, infer_datetime_format, keep_date_col, date_parser, dayfirst, iterator, chunksize, compression, thousands, decimal, lineterminator, quotechar, quoting, escapechar, comment, encoding, dialect, tupleize_cols, error_bad_lines, warn_bad_lines, skipfooter, skip_footer, doublequote, delim_whitespace, as_recarray, compact_ints, use_unsigned, low_memory, buffer_lines, memory_map, float_precision)\u001b[0m\n\u001b[1;32m    653\u001b[0m                     skip_blank_lines=skip_blank_lines)\n\u001b[1;32m    654\u001b[0m \u001b[0;34m\u001b[0m\u001b[0m\n\u001b[0;32m--> 655\u001b[0;31m         \u001b[0;32mreturn\u001b[0m \u001b[0m_read\u001b[0m\u001b[0;34m(\u001b[0m\u001b[0mfilepath_or_buffer\u001b[0m\u001b[0;34m,\u001b[0m \u001b[0mkwds\u001b[0m\u001b[0;34m)\u001b[0m\u001b[0;34m\u001b[0m\u001b[0m\n\u001b[0m\u001b[1;32m    656\u001b[0m \u001b[0;34m\u001b[0m\u001b[0m\n\u001b[1;32m    657\u001b[0m     \u001b[0mparser_f\u001b[0m\u001b[0;34m.\u001b[0m\u001b[0m__name__\u001b[0m \u001b[0;34m=\u001b[0m \u001b[0mname\u001b[0m\u001b[0;34m\u001b[0m\u001b[0m\n",
      "\u001b[0;32m~/anaconda3/lib/python3.6/site-packages/pandas/io/parsers.py\u001b[0m in \u001b[0;36m_read\u001b[0;34m(filepath_or_buffer, kwds)\u001b[0m\n\u001b[1;32m    403\u001b[0m \u001b[0;34m\u001b[0m\u001b[0m\n\u001b[1;32m    404\u001b[0m     \u001b[0;31m# Create the parser.\u001b[0m\u001b[0;34m\u001b[0m\u001b[0;34m\u001b[0m\u001b[0m\n\u001b[0;32m--> 405\u001b[0;31m     \u001b[0mparser\u001b[0m \u001b[0;34m=\u001b[0m \u001b[0mTextFileReader\u001b[0m\u001b[0;34m(\u001b[0m\u001b[0mfilepath_or_buffer\u001b[0m\u001b[0;34m,\u001b[0m \u001b[0;34m**\u001b[0m\u001b[0mkwds\u001b[0m\u001b[0;34m)\u001b[0m\u001b[0;34m\u001b[0m\u001b[0m\n\u001b[0m\u001b[1;32m    406\u001b[0m \u001b[0;34m\u001b[0m\u001b[0m\n\u001b[1;32m    407\u001b[0m     \u001b[0;32mif\u001b[0m \u001b[0mchunksize\u001b[0m \u001b[0;32mor\u001b[0m \u001b[0miterator\u001b[0m\u001b[0;34m:\u001b[0m\u001b[0;34m\u001b[0m\u001b[0m\n",
      "\u001b[0;32m~/anaconda3/lib/python3.6/site-packages/pandas/io/parsers.py\u001b[0m in \u001b[0;36m__init__\u001b[0;34m(self, f, engine, **kwds)\u001b[0m\n\u001b[1;32m    762\u001b[0m             \u001b[0mself\u001b[0m\u001b[0;34m.\u001b[0m\u001b[0moptions\u001b[0m\u001b[0;34m[\u001b[0m\u001b[0;34m'has_index_names'\u001b[0m\u001b[0;34m]\u001b[0m \u001b[0;34m=\u001b[0m \u001b[0mkwds\u001b[0m\u001b[0;34m[\u001b[0m\u001b[0;34m'has_index_names'\u001b[0m\u001b[0;34m]\u001b[0m\u001b[0;34m\u001b[0m\u001b[0m\n\u001b[1;32m    763\u001b[0m \u001b[0;34m\u001b[0m\u001b[0m\n\u001b[0;32m--> 764\u001b[0;31m         \u001b[0mself\u001b[0m\u001b[0;34m.\u001b[0m\u001b[0m_make_engine\u001b[0m\u001b[0;34m(\u001b[0m\u001b[0mself\u001b[0m\u001b[0;34m.\u001b[0m\u001b[0mengine\u001b[0m\u001b[0;34m)\u001b[0m\u001b[0;34m\u001b[0m\u001b[0m\n\u001b[0m\u001b[1;32m    765\u001b[0m \u001b[0;34m\u001b[0m\u001b[0m\n\u001b[1;32m    766\u001b[0m     \u001b[0;32mdef\u001b[0m \u001b[0mclose\u001b[0m\u001b[0;34m(\u001b[0m\u001b[0mself\u001b[0m\u001b[0;34m)\u001b[0m\u001b[0;34m:\u001b[0m\u001b[0;34m\u001b[0m\u001b[0m\n",
      "\u001b[0;32m~/anaconda3/lib/python3.6/site-packages/pandas/io/parsers.py\u001b[0m in \u001b[0;36m_make_engine\u001b[0;34m(self, engine)\u001b[0m\n\u001b[1;32m    983\u001b[0m     \u001b[0;32mdef\u001b[0m \u001b[0m_make_engine\u001b[0m\u001b[0;34m(\u001b[0m\u001b[0mself\u001b[0m\u001b[0;34m,\u001b[0m \u001b[0mengine\u001b[0m\u001b[0;34m=\u001b[0m\u001b[0;34m'c'\u001b[0m\u001b[0;34m)\u001b[0m\u001b[0;34m:\u001b[0m\u001b[0;34m\u001b[0m\u001b[0m\n\u001b[1;32m    984\u001b[0m         \u001b[0;32mif\u001b[0m \u001b[0mengine\u001b[0m \u001b[0;34m==\u001b[0m \u001b[0;34m'c'\u001b[0m\u001b[0;34m:\u001b[0m\u001b[0;34m\u001b[0m\u001b[0m\n\u001b[0;32m--> 985\u001b[0;31m             \u001b[0mself\u001b[0m\u001b[0;34m.\u001b[0m\u001b[0m_engine\u001b[0m \u001b[0;34m=\u001b[0m \u001b[0mCParserWrapper\u001b[0m\u001b[0;34m(\u001b[0m\u001b[0mself\u001b[0m\u001b[0;34m.\u001b[0m\u001b[0mf\u001b[0m\u001b[0;34m,\u001b[0m \u001b[0;34m**\u001b[0m\u001b[0mself\u001b[0m\u001b[0;34m.\u001b[0m\u001b[0moptions\u001b[0m\u001b[0;34m)\u001b[0m\u001b[0;34m\u001b[0m\u001b[0m\n\u001b[0m\u001b[1;32m    986\u001b[0m         \u001b[0;32melse\u001b[0m\u001b[0;34m:\u001b[0m\u001b[0;34m\u001b[0m\u001b[0m\n\u001b[1;32m    987\u001b[0m             \u001b[0;32mif\u001b[0m \u001b[0mengine\u001b[0m \u001b[0;34m==\u001b[0m \u001b[0;34m'python'\u001b[0m\u001b[0;34m:\u001b[0m\u001b[0;34m\u001b[0m\u001b[0m\n",
      "\u001b[0;32m~/anaconda3/lib/python3.6/site-packages/pandas/io/parsers.py\u001b[0m in \u001b[0;36m__init__\u001b[0;34m(self, src, **kwds)\u001b[0m\n\u001b[1;32m   1603\u001b[0m         \u001b[0mkwds\u001b[0m\u001b[0;34m[\u001b[0m\u001b[0;34m'allow_leading_cols'\u001b[0m\u001b[0;34m]\u001b[0m \u001b[0;34m=\u001b[0m \u001b[0mself\u001b[0m\u001b[0;34m.\u001b[0m\u001b[0mindex_col\u001b[0m \u001b[0;32mis\u001b[0m \u001b[0;32mnot\u001b[0m \u001b[0;32mFalse\u001b[0m\u001b[0;34m\u001b[0m\u001b[0m\n\u001b[1;32m   1604\u001b[0m \u001b[0;34m\u001b[0m\u001b[0m\n\u001b[0;32m-> 1605\u001b[0;31m         \u001b[0mself\u001b[0m\u001b[0;34m.\u001b[0m\u001b[0m_reader\u001b[0m \u001b[0;34m=\u001b[0m \u001b[0mparsers\u001b[0m\u001b[0;34m.\u001b[0m\u001b[0mTextReader\u001b[0m\u001b[0;34m(\u001b[0m\u001b[0msrc\u001b[0m\u001b[0;34m,\u001b[0m \u001b[0;34m**\u001b[0m\u001b[0mkwds\u001b[0m\u001b[0;34m)\u001b[0m\u001b[0;34m\u001b[0m\u001b[0m\n\u001b[0m\u001b[1;32m   1606\u001b[0m \u001b[0;34m\u001b[0m\u001b[0m\n\u001b[1;32m   1607\u001b[0m         \u001b[0;31m# XXX\u001b[0m\u001b[0;34m\u001b[0m\u001b[0;34m\u001b[0m\u001b[0m\n",
      "\u001b[0;32mpandas/_libs/parsers.pyx\u001b[0m in \u001b[0;36mpandas._libs.parsers.TextReader.__cinit__ (pandas/_libs/parsers.c:4209)\u001b[0;34m()\u001b[0m\n",
      "\u001b[0;32mpandas/_libs/parsers.pyx\u001b[0m in \u001b[0;36mpandas._libs.parsers.TextReader._setup_parser_source (pandas/_libs/parsers.c:8873)\u001b[0;34m()\u001b[0m\n",
      "\u001b[0;31mFileNotFoundError\u001b[0m: File b'train.csv' does not exist"
     ]
    }
   ],
   "source": [
    "train = pd.read_csv(\"train.csv\")\n",
    "test = pd.read_csv(\"test.csv\")"
   ]
  },
  {
   "cell_type": "markdown",
   "metadata": {
    "_uuid": "ddc994e83e9b50d9180adea3f4c6cd0623cac9cf"
   },
   "source": [
    "**Exploring the Data**"
   ]
  },
  {
   "cell_type": "code",
   "execution_count": null,
   "metadata": {
    "_uuid": "39365f5a5ae8f05c783daa7727e637f2e9c463fa",
    "collapsed": true
   },
   "outputs": [],
   "source": [
    "print('Train shape:', train.shape)\n",
    "print('Test shape:', test.shape)"
   ]
  },
  {
   "cell_type": "code",
   "execution_count": null,
   "metadata": {
    "_uuid": "8ab600c851eabd681f4b4b811732c159496a7c1b",
    "collapsed": true,
    "scrolled": false
   },
   "outputs": [],
   "source": [
    "print(train.columns.values)\n",
    "train.describe(include = 'all')"
   ]
  },
  {
   "cell_type": "code",
   "execution_count": null,
   "metadata": {
    "_uuid": "331192fd7ea1273df7ea3d3e80ee7340aa81992f",
    "collapsed": true
   },
   "outputs": [],
   "source": [
    "print(train.dtypes)\n",
    "print()\n",
    "#Explore Nan values in each column\n",
    "print(train.isna().sum())"
   ]
  },
  {
   "cell_type": "code",
   "execution_count": null,
   "metadata": {
    "_uuid": "e8527b7e841659bff922b18f67051814ba249c8d",
    "collapsed": true,
    "scrolled": false
   },
   "outputs": [],
   "source": [
    "print(test.dtypes)\n",
    "print()\n",
    "print(test.isna().sum())"
   ]
  },
  {
   "cell_type": "code",
   "execution_count": null,
   "metadata": {
    "_uuid": "6efd5533af4c9c31b3971c39c5c5ab19e33f2c6b",
    "collapsed": true
   },
   "outputs": [],
   "source": [
    "# Check the correlation for the current numeric feature set.\n",
    "print(train[['Survived', 'Pclass', 'Age', 'SibSp', 'Parch', 'Fare']].corr())\n",
    "sns.heatmap(train[['Survived', 'Pclass', 'Age', 'SibSp', 'Parch', 'Fare']].corr(),\\\n",
    "            annot = True, fmt = \".2f\", cmap = \"coolwarm\")"
   ]
  },
  {
   "cell_type": "code",
   "execution_count": null,
   "metadata": {
    "_uuid": "ed50974d16111a34fb1acd874d11251692f2920c",
    "collapsed": true
   },
   "outputs": [],
   "source": [
    "mask = np.zeros_like(train[['Survived', 'Pclass', 'Age', 'SibSp', 'Parch', 'Fare']].corr())\n",
    "mask[np.triu_indices_from(mask)] = True\n",
    "sns.heatmap(train[['Survived', 'Pclass', 'Age', 'SibSp', 'Parch', 'Fare']].corr(), \\\n",
    "            annot = True, fmt = \".2f\", cmap = \"coolwarm\", mask = mask)"
   ]
  },
  {
   "cell_type": "markdown",
   "metadata": {
    "_uuid": "8acae6838a902ef6787892b69098d1ab5a1bed99"
   },
   "source": [
    "**Exploring the data**"
   ]
  },
  {
   "cell_type": "code",
   "execution_count": null,
   "metadata": {
    "_uuid": "a773d35c884107ab13bd665ecdfb0e0f5b9e680a",
    "collapsed": true
   },
   "outputs": [],
   "source": [
    "print(train.columns.values)"
   ]
  },
  {
   "cell_type": "markdown",
   "metadata": {
    "_uuid": "e562aa01e8c11d5a48c182e177b93e349c6f3a19"
   },
   "source": [
    "**Pclass:** -0.33 means the higher the less is the chance"
   ]
  },
  {
   "cell_type": "code",
   "execution_count": null,
   "metadata": {
    "_uuid": "f070e44d258f15002d477c841de45526801f542f",
    "collapsed": true
   },
   "outputs": [],
   "source": [
    "# the relation between Pclass and Survived and mouthache boxes\n",
    "print(train[['Pclass', 'Survived']].groupby(['Pclass']).mean())\n",
    "sns.catplot(x = 'Pclass', y = 'Survived',  kind = 'bar', data = train)"
   ]
  },
  {
   "cell_type": "markdown",
   "metadata": {
    "_uuid": "340b4861a54c7eb765e1529504117a2326ff24ee"
   },
   "source": [
    "**Sex:**\n",
    "\n",
    "\n",
    "\n"
   ]
  },
  {
   "cell_type": "code",
   "execution_count": null,
   "metadata": {
    "_uuid": "f32e2c55c774e320c76ee9853d27003a5a18d7df",
    "collapsed": true
   },
   "outputs": [],
   "source": [
    "print(train[['Sex', 'Survived']].groupby(['Sex']).mean())\n",
    "sns.catplot(x = 'Sex', y = 'Survived',  kind = 'bar', data = train)"
   ]
  },
  {
   "cell_type": "markdown",
   "metadata": {
    "_uuid": "680c07eb760a3a4eaf0269c2a6a82e5e46db0552"
   },
   "source": [
    "**Sex AND Age**"
   ]
  },
  {
   "cell_type": "code",
   "execution_count": null,
   "metadata": {
    "_uuid": "559266e03bc54fbd278e992dce2b1457615a5c86",
    "collapsed": true
   },
   "outputs": [],
   "source": [
    "palette = 'viridis'\n",
    "for sex in ('male', 'female'):\n",
    "    tr = train[train['Sex'] == sex]\n",
    "    age_bins = pd.qcut(tr['Age'], 20)\n",
    "    df = tr.groupby(age_bins)['Survived'].mean()\n",
    "    \n",
    "    plt.figure(figsize=(12,4)).suptitle(f'Survived wrt. Age ({sex})', fontsize=15);\n",
    "    sns.barplot(df.index, df.values, palette = palette).set_xticklabels(df.index, rotation=90);"
   ]
  },
  {
   "cell_type": "markdown",
   "metadata": {
    "_uuid": "ee26d84ba3c1548d621462e9ea6ae48948b5d2a3"
   },
   "source": [
    "> ***PClass AND Gender*** "
   ]
  },
  {
   "cell_type": "code",
   "execution_count": null,
   "metadata": {
    "_uuid": "1b64eb6c73fd5ba931da39b39d6c84716e9787e1",
    "collapsed": true
   },
   "outputs": [],
   "source": [
    "sns.catplot(x = 'Sex', y = 'Survived',  kind = 'bar', data = train, hue = 'Pclass')"
   ]
  },
  {
   "cell_type": "markdown",
   "metadata": {
    "_uuid": "232e7394cd494a5d09ca55d3ae7b00fa3ae60a19"
   },
   "source": [
    "**Fare:**"
   ]
  },
  {
   "cell_type": "code",
   "execution_count": null,
   "metadata": {
    "_uuid": "4702c981400e8c1877f0a47858e62b90133b06e3",
    "collapsed": true,
    "scrolled": true
   },
   "outputs": [],
   "source": [
    "f = sns.FacetGrid(train, col = 'Survived')\n",
    "f = f.map(sns.distplot, \"Fare\")"
   ]
  },
  {
   "cell_type": "code",
   "execution_count": null,
   "metadata": {
    "_uuid": "bdd1b06c767515727399e88911f373ef84e0240d",
    "collapsed": true
   },
   "outputs": [],
   "source": [
    "group = pd.cut(train.Fare, [0, 50, 100, 150, 200, 550])\n",
    "piv_fare = train.pivot_table(index = group, columns = 'Survived', values = 'Fare', aggfunc = 'count')\n",
    "piv_fare.plot(kind = 'bar')"
   ]
  },
  {
   "cell_type": "markdown",
   "metadata": {
    "_uuid": "39c50db814a4d138a51e452c4d3277e33bde53ae"
   },
   "source": [
    "**Age:**"
   ]
  },
  {
   "cell_type": "code",
   "execution_count": null,
   "metadata": {
    "_uuid": "b12dae7204524c7a25dd9655cc7d4817acbcd8fe",
    "collapsed": true
   },
   "outputs": [],
   "source": [
    "ag = sns.FacetGrid(train, col = 'Survived')\n",
    "ag = ag.map(sns.distplot, \"Age\")"
   ]
  },
  {
   "cell_type": "code",
   "execution_count": null,
   "metadata": {
    "_uuid": "35d1bff493f92f3331e0dc62605e9a3757e6b083",
    "collapsed": true
   },
   "outputs": [],
   "source": [
    "group = pd.cut(train.Age, [0, 14, 30, 60, 100])\n",
    "piv_fare = train.pivot_table(index = group, columns = 'Survived', values = 'Age', aggfunc = 'count')\n",
    "piv_fare.plot(kind = 'bar')"
   ]
  },
  {
   "cell_type": "markdown",
   "metadata": {
    "_uuid": "1c6d5bb3bbbef7f1aa4f29277ffc63fd1b4c04eb"
   },
   "source": [
    "Through this bar plot we can confirm that children did have a higher chance of survival"
   ]
  },
  {
   "cell_type": "markdown",
   "metadata": {
    "_uuid": "429f326206a144e647f53a17c4d5a8a632367087"
   },
   "source": [
    "**Embarked:**"
   ]
  },
  {
   "cell_type": "code",
   "execution_count": null,
   "metadata": {
    "_uuid": "260614fc7c78520e5ea488eb80120a6677e418d3",
    "collapsed": true
   },
   "outputs": [],
   "source": [
    "print(train[['Embarked', 'Survived']].groupby(['Embarked']).mean())\n",
    "sns.catplot(x = 'Embarked', y = 'Survived',  kind = 'bar', data = train)"
   ]
  },
  {
   "cell_type": "code",
   "execution_count": null,
   "metadata": {
    "_uuid": "a3749fc79fdff55e3e79bbf7d033424ffb033f65",
    "collapsed": true,
    "scrolled": true
   },
   "outputs": [],
   "source": [
    "sns.catplot('Pclass', kind = 'count', col = 'Embarked', data = train)"
   ]
  },
  {
   "cell_type": "markdown",
   "metadata": {
    "_uuid": "3a0606efc841202284bf0e16af9493464adb471e"
   },
   "source": [
    "**SibSp and Parch**"
   ]
  },
  {
   "cell_type": "code",
   "execution_count": null,
   "metadata": {
    "_uuid": "d930ac7f6c8065a0d0304108089a3e7458ee2c8e",
    "collapsed": true
   },
   "outputs": [],
   "source": [
    "print(train[['SibSp', 'Survived']].groupby(['SibSp']).mean())\n",
    "sns.catplot(x = 'SibSp', y = 'Survived', data = train, kind = 'bar')"
   ]
  },
  {
   "cell_type": "code",
   "execution_count": null,
   "metadata": {
    "_uuid": "c1eebd03bc00c325e4faba5982f62b76aa896892",
    "collapsed": true
   },
   "outputs": [],
   "source": [
    "print(train[['Parch', 'Survived']].groupby(['Parch']).mean())\n",
    "sns.catplot(x = 'Parch', y = 'Survived', data = train, kind = 'bar')"
   ]
  },
  {
   "cell_type": "markdown",
   "metadata": {
    "_uuid": "27e56b2ffa67ef7c0989a5b46eb78f15280956c3"
   },
   "source": [
    "**Name**"
   ]
  },
  {
   "cell_type": "code",
   "execution_count": null,
   "metadata": {
    "_uuid": "85212357e521a25e643247d982913d61a68c21ba",
    "collapsed": true,
    "scrolled": true
   },
   "outputs": [],
   "source": [
    "print(train.Name.head(1))"
   ]
  },
  {
   "cell_type": "code",
   "execution_count": null,
   "metadata": {
    "_uuid": "b5a7e8e3da62609c29f3aca3c3fe749866647820",
    "collapsed": true
   },
   "outputs": [],
   "source": [
    "print(train.Name.head(1).str.split(','))"
   ]
  },
  {
   "cell_type": "code",
   "execution_count": null,
   "metadata": {
    "_uuid": "cf0595d0c653ce8279fe98d7be53ab434e2796f9",
    "collapsed": true
   },
   "outputs": [],
   "source": [
    "for dataset in [train, test]:\n",
    "    dataset['Title'] = dataset['Name'].str.split(',').str[1].str.split('.').str[0].str.strip()\n",
    "    print(dataset['Title'].value_counts())\n",
    "    print()"
   ]
  },
  {
   "cell_type": "code",
   "execution_count": null,
   "metadata": {
    "_uuid": "aa18e94b7cc9851a0cf833d74c7b26fbb3c370ff",
    "collapsed": true
   },
   "outputs": [],
   "source": [
    "sns.catplot(x = 'Survived', y = 'Title', data = train, kind = 'bar')"
   ]
  },
  {
   "cell_type": "markdown",
   "metadata": {
    "_uuid": "9148c3f5d8cf450a29dbde965b053b14558a3a4c"
   },
   "source": [
    "**Ticket**"
   ]
  },
  {
   "cell_type": "code",
   "execution_count": null,
   "metadata": {
    "_uuid": "048ce399ff1eaf31c361c5ee3703988c809c1095",
    "collapsed": true
   },
   "outputs": [],
   "source": [
    "print(train[['Ticket', 'Survived']].groupby(['Ticket']).mean())\n",
    "sns.catplot(x = 'Ticket', y = 'Survived',  kind = 'bar', data = train)"
   ]
  },
  {
   "cell_type": "markdown",
   "metadata": {
    "_uuid": "b3bbe92f3fa1444c00718a003a9753ef56a7aa92"
   },
   "source": [
    "### ***About null***"
   ]
  },
  {
   "cell_type": "code",
   "execution_count": null,
   "metadata": {
    "_uuid": "d181b1cd715ac9c6b652612366a6cb93443b1376",
    "collapsed": true
   },
   "outputs": [],
   "source": [
    "for df in [train, test]:\n",
    "    print(df.shape)\n",
    "    print()\n",
    "    print(df.isna().sum())"
   ]
  },
  {
   "cell_type": "code",
   "execution_count": null,
   "metadata": {
    "_uuid": "ea9a903c491cb0d2308b8ae4fc03835b5c843958",
    "collapsed": true,
    "scrolled": true
   },
   "outputs": [],
   "source": [
    "# Drop rows with nulls for Embarked\n",
    "for df in [train, test]:\n",
    "    df.dropna(subset = ['Embarked'], inplace = True)"
   ]
  },
  {
   "cell_type": "markdown",
   "metadata": {
    "_uuid": "d602989426e9a9780b7f4a9b04f57a6df330198b"
   },
   "source": [
    "**Fare**"
   ]
  },
  {
   "cell_type": "code",
   "execution_count": null,
   "metadata": {
    "_uuid": "b598ecf6b0f108b63165d13f80683230a4cee7ca",
    "collapsed": true,
    "scrolled": false
   },
   "outputs": [],
   "source": [
    "print(train[train['Fare'].isnull()])\n",
    "\n",
    "print(test[test['Fare'].isnull()])\n",
    "# We can deduce that Pclass should be related to Fares.\n",
    "sns.catplot(x = 'Pclass', y = 'Fare', data = test, kind = 'point')"
   ]
  },
  {
   "cell_type": "code",
   "execution_count": null,
   "metadata": {
    "_uuid": "4d0a891c5ae0caffe38a3f752a89e55aafcf578a",
    "collapsed": true
   },
   "outputs": [],
   "source": [
    "# There is a clear relation between Pclass and Fare. We can use this information to impute the missing fare value.\n",
    "# We see that the passenger is from Pclass 3. So we take a median value for all the Pclass 3 fares.\n",
    "test['Fare'].fillna(test[test['Pclass'] == 3].Fare.median(), inplace = True)"
   ]
  },
  {
   "cell_type": "markdown",
   "metadata": {
    "_uuid": "2c714812ca14931579cc79e314f1f55078750c6e"
   },
   "source": [
    "**Age**\n",
    "\n",
    "Approaching missing ages by using titles (Ms, Mrs and so on)"
   ]
  },
  {
   "cell_type": "code",
   "execution_count": null,
   "metadata": {
    "_uuid": "96c48143b4179ecff51d5a9dc01cf41ba405853a",
    "collapsed": true
   },
   "outputs": [],
   "source": [
    "print(train[['Age','Title']].groupby('Title').mean())\n",
    "sns.catplot(x = 'Age', y = 'Title', data = train, kind = 'bar')"
   ]
  },
  {
   "cell_type": "code",
   "execution_count": null,
   "metadata": {
    "_uuid": "864c790d9c3906e8123dbe207f4ce74b308b00f1",
    "collapsed": true
   },
   "outputs": [],
   "source": [
    "def getTitle(series):\n",
    "    return series.str.split(',').str[1].str.split('.').str[0].str.strip()\n",
    "print(getTitle(train[train.Age.isnull()].Name).value_counts())\n",
    "\n",
    "mr_mask = train['Title'] == 'Mr'\n",
    "miss_mask = train['Title'] == 'Miss'\n",
    "mrs_mask = train['Title'] == 'Mrs'\n",
    "master_mask = train['Title'] == 'Master'\n",
    "dr_mask = train['Title'] == 'Dr'\n",
    "train.loc[mr_mask, 'Age'] = train.loc[mr_mask, 'Age'].fillna(train[train.Title == 'Mr'].Age.mean())\n",
    "train.loc[miss_mask, 'Age'] = train.loc[miss_mask, 'Age'].fillna(train[train.Title == 'Miss'].Age.mean())\n",
    "train.loc[mrs_mask, 'Age'] = train.loc[mrs_mask, 'Age'].fillna(train[train.Title == 'Mrs'].Age.mean())\n",
    "train.loc[master_mask, 'Age'] = train.loc[master_mask, 'Age'].fillna(train[train.Title == 'Master'].Age.mean())\n",
    "train.loc[dr_mask, 'Age'] = train.loc[dr_mask, 'Age'].fillna(train[train.Title == 'Dr'].Age.mean())\n",
    "print()"
   ]
  },
  {
   "cell_type": "code",
   "execution_count": null,
   "metadata": {
    "_uuid": "62724c5ec6f8a428f638f173643a737920462b04",
    "collapsed": true
   },
   "outputs": [],
   "source": [
    "print(getTitle(train[train.Age.isnull()].Name).value_counts())"
   ]
  },
  {
   "cell_type": "code",
   "execution_count": null,
   "metadata": {
    "_uuid": "557fb03dfe73801204739f4d5c440119396e2b73",
    "collapsed": true
   },
   "outputs": [],
   "source": [
    "print(getTitle(test[test.Age.isnull()].Name).value_counts())\n",
    "\n",
    "mr_mask = test['Title'] == 'Mr'\n",
    "miss_mask = test['Title'] == 'Miss'\n",
    "mrs_mask = test['Title'] == 'Mrs'\n",
    "master_mask = test['Title'] == 'Master'\n",
    "ms_mask = test['Title'] == 'Ms'\n",
    "test.loc[mr_mask, 'Age'] = test.loc[mr_mask, 'Age'].fillna(test[test.Title == 'Mr'].Age.mean())\n",
    "test.loc[miss_mask, 'Age'] = test.loc[miss_mask, 'Age'].fillna(test[test.Title == 'Miss'].Age.mean())\n",
    "test.loc[mrs_mask, 'Age'] = test.loc[mrs_mask, 'Age'].fillna(test[test.Title == 'Mrs'].Age.mean())\n",
    "test.loc[master_mask, 'Age'] = test.loc[master_mask, 'Age'].fillna(test[test.Title == 'Master'].Age.mean())\n",
    "test.loc[ms_mask, 'Age'] = test.loc[ms_mask, 'Age'].fillna(test[test.Title == 'Ms'].Age.mean())"
   ]
  },
  {
   "cell_type": "code",
   "execution_count": null,
   "metadata": {
    "_uuid": "b4baea055e1aad88ed807647b53b53c1e61152a9",
    "collapsed": true
   },
   "outputs": [],
   "source": [
    "print(getTitle(test[test.Age.isnull()].Name).value_counts())"
   ]
  },
  {
   "cell_type": "code",
   "execution_count": null,
   "metadata": {
    "_uuid": "fbef0da985472daecbbbe5f81b0b25968387b0d1",
    "collapsed": true
   },
   "outputs": [],
   "source": [
    "print(train.isna().sum())\n",
    "print(test.isna().sum())"
   ]
  },
  {
   "cell_type": "code",
   "execution_count": null,
   "metadata": {
    "_uuid": "8c2b491b15ebdb5e604552b06f291f75f6fda79f",
    "collapsed": true
   },
   "outputs": [],
   "source": [
    "train.drop(columns=['PassengerId'], inplace = True)\n",
    "[df.drop(columns=['Ticket'], inplace = True) for df in [train, test]]"
   ]
  },
  {
   "cell_type": "markdown",
   "metadata": {
    "_uuid": "76e45b219796271bf5024aac3907503b31a6160a"
   },
   "source": [
    "Encode all the categorical features. One of things to lookout for is the Dummy Trap"
   ]
  },
  {
   "cell_type": "code",
   "execution_count": null,
   "metadata": {
    "_uuid": "51511db57fdb4b69999601c7449e20b83e8860bf",
    "collapsed": true
   },
   "outputs": [],
   "source": [
    "[train, test] = [pd.get_dummies(data = df, columns = ['Pclass', 'Sex', 'Embarked']) for df in [train, test]]"
   ]
  },
  {
   "cell_type": "code",
   "execution_count": null,
   "metadata": {
    "_uuid": "0f33ea2d16a467ca5c3a3da0a2952a3665587a29",
    "collapsed": true
   },
   "outputs": [],
   "source": [
    "for df in [train, test]:\n",
    "    df['HasCabin'] = df['Cabin'].notna().astype(int)\n",
    "    df['FamilySize'] = df['SibSp'] + df['Parch'] + 1\n",
    "    df['IsAlone'] = (df['FamilySize'] > 1).astype(int)"
   ]
  },
  {
   "cell_type": "code",
   "execution_count": null,
   "metadata": {
    "_uuid": "77a8b4eb170f988b4a91e2e8a0e1c093cc7542fa",
    "collapsed": true
   },
   "outputs": [],
   "source": [
    "[df.drop(columns=['Cabin', 'SibSp', 'Parch'], inplace = True) for df in [train, test]]"
   ]
  },
  {
   "cell_type": "code",
   "execution_count": null,
   "metadata": {
    "_uuid": "5261d4479dd18d1ad560a425b62daa335aa51240",
    "collapsed": true
   },
   "outputs": [],
   "source": [
    "print(test)"
   ]
  },
  {
   "cell_type": "code",
   "execution_count": null,
   "metadata": {
    "_uuid": "e570cde36ce7c008c32b7c5d7c060c1260046c7b",
    "collapsed": true
   },
   "outputs": [],
   "source": [
    "[df.drop(columns=['Name'], inplace = True) for df in [train, test]]\n",
    "[train, test] = [pd.get_dummies(data = df, columns = ['Title']) for df in [train, test]]"
   ]
  },
  {
   "cell_type": "code",
   "execution_count": null,
   "metadata": {
    "_uuid": "955c4352de14e3cf86ab7085c398afb34b32a65e",
    "collapsed": true
   },
   "outputs": [],
   "source": [
    "print(train.columns.values)\n",
    "print(test.columns.values)"
   ]
  },
  {
   "cell_type": "code",
   "execution_count": null,
   "metadata": {
    "_uuid": "ee326415773ea4b8f4fc8be7c93de2d8c506da61",
    "collapsed": true
   },
   "outputs": [],
   "source": [
    "train.corr()"
   ]
  },
  {
   "cell_type": "code",
   "execution_count": null,
   "metadata": {
    "_uuid": "c6b0ac269139db436172749f5af3ca71b0e2039d",
    "collapsed": true
   },
   "outputs": [],
   "source": [
    "X = train[['Fare', 'Pclass_1', 'Pclass_3', 'Sex_female', 'Embarked_C', 'Embarked_S', 'HasCabin', 'IsAlone', 'Title_Master', 'Title_Miss', 'Title_Mr', 'Title_Mrs']]\n",
    "y = train['Survived']\n",
    "\n",
    "X_train, X_test, y_train, y_test = train_test_split(X, y, test_size = 0.1)\n",
    "print(X_train.shape, X_test.shape)"
   ]
  },
  {
   "cell_type": "code",
   "execution_count": null,
   "metadata": {
    "_uuid": "dc180edda7b510cb4962a5679d883c5ba98c7894",
    "collapsed": true
   },
   "outputs": [],
   "source": [
    "print(y.value_counts())"
   ]
  },
  {
   "cell_type": "code",
   "execution_count": null,
   "metadata": {
    "_uuid": "0ec6ca90aa53c79254c074a1b08b0fa3bee0ca23",
    "collapsed": true
   },
   "outputs": [],
   "source": [
    "y_default = pd.Series([0] * train['Survived'].shape[0], name = 'Survived')\n",
    "print(y_default.value_counts())"
   ]
  },
  {
   "cell_type": "code",
   "execution_count": null,
   "metadata": {
    "_uuid": "ca587b8d2cb36363e4f9f29e125b5e28ee360b3a",
    "collapsed": true
   },
   "outputs": [],
   "source": [
    "print(confusion_matrix(y, y_default))\n",
    "print()\n",
    "print(accuracy_score(y, y_default))\n",
    "#Initial accuracy"
   ]
  },
  {
   "cell_type": "markdown",
   "metadata": {
    "_uuid": "c2776b261ef0443e44435a88e8c2004db00ccbea"
   },
   "source": [
    "**Extimator**"
   ]
  },
  {
   "cell_type": "code",
   "execution_count": null,
   "metadata": {
    "_uuid": "0118cd1150a498d6385bb05952d102769e4a2ccb",
    "collapsed": true
   },
   "outputs": [],
   "source": [
    "print(\"LinearSVC\")\n",
    "classifier = LinearSVC(dual = False)\n",
    "classifier.fit(X_train, y_train)\n",
    "y_pred = classifier.predict(X_test)\n",
    "print(confusion_matrix(y_test, y_pred))\n",
    "print(accuracy_score(y_test, y_pred))"
   ]
  },
  {
   "cell_type": "code",
   "execution_count": null,
   "metadata": {
    "_uuid": "f1048915314eebf67512733bc00766870aec15da",
    "collapsed": true
   },
   "outputs": [],
   "source": [
    "print(\"Logistic Regression\")\n",
    "classifier = LogisticRegression(random_state=0, solver='lbfgs', multi_class='multinomial').fit(X, y)\n",
    "classifier.fit(X_train, y_train)\n",
    "y_pred = classifier.predict(X_test)\n",
    "print(confusion_matrix(y_test, y_pred))\n",
    "print(accuracy_score(y_test, y_pred))"
   ]
  },
  {
   "cell_type": "code",
   "execution_count": null,
   "metadata": {
    "_uuid": "8fdc870c9216f5039209845b071789743396b6cb",
    "collapsed": true
   },
   "outputs": [],
   "source": [
    "print(\"KNeighborsClassifier\")\n",
    "classifier = KNeighborsClassifier(n_neighbors = 2)\n",
    "classifier.fit(X_train, y_train)\n",
    "y_pred = classifier.predict(X_test)\n",
    "print(confusion_matrix(y_test, y_pred))\n",
    "print(accuracy_score(y_test, y_pred))"
   ]
  },
  {
   "cell_type": "code",
   "execution_count": null,
   "metadata": {
    "_uuid": "671bb61bc2a973abb809a92c4c4db9bcc0cc4edb",
    "collapsed": true
   },
   "outputs": [],
   "source": [
    "print(\"AdaBoostClassifier\")\n",
    "classifier = AdaBoostClassifier()\n",
    "classifier.fit(X_train, y_train)\n",
    "y_pred = classifier.predict(X_test)\n",
    "print(confusion_matrix(y_test, y_pred))\n",
    "print(accuracy_score(y_test, y_pred))\n",
    "print(\"BaggingClassifier\")\n",
    "classifier = BaggingClassifier()\n",
    "classifier.fit(X_train, y_train)\n",
    "y_pred = classifier.predict(X_test)\n",
    "print(confusion_matrix(y_test, y_pred))\n",
    "print(accuracy_score(y_test, y_pred))"
   ]
  },
  {
   "cell_type": "code",
   "execution_count": null,
   "metadata": {
    "_uuid": "c6ed248319c13a2acbdf8a87509fb1e9c47237f8",
    "collapsed": true
   },
   "outputs": [],
   "source": [
    "classifier = XGBClassifier()\n",
    "classifier.fit(X_train, y_train)\n",
    "y_pred = classifier.predict(X_test)\n",
    "\n",
    "print(confusion_matrix(y_test, y_pred))"
   ]
  },
  {
   "cell_type": "code",
   "execution_count": null,
   "metadata": {
    "_uuid": "6ce942ac19ee00c0c7903dfae32a66006b922f83",
    "collapsed": true
   },
   "outputs": [],
   "source": [
    "print(accuracy_score(y_test, y_pred))"
   ]
  },
  {
   "cell_type": "code",
   "execution_count": null,
   "metadata": {
    "_uuid": "abc24fd585c63e646aada699c4763316f454e2c9",
    "collapsed": true,
    "scrolled": true
   },
   "outputs": [],
   "source": [
    "X_validation = test[['Fare', 'Pclass_1', 'Pclass_3', 'Sex_female', 'Embarked_C', 'Embarked_S', 'HasCabin', 'IsAlone', 'Title_Master', 'Title_Miss', 'Title_Mr', 'Title_Mrs']]"
   ]
  },
  {
   "cell_type": "code",
   "execution_count": null,
   "metadata": {
    "_uuid": "bf79a0a007de1eed5d1d3efa0f56d5e6e2fa90e8",
    "collapsed": true
   },
   "outputs": [],
   "source": [
    "y_valid = classifier.predict(X_validation)"
   ]
  },
  {
   "cell_type": "markdown",
   "metadata": {
    "_uuid": "6a9a55d597ad0e8914aad6cd484a62fcc10f0980"
   },
   "source": [
    "**Submission**"
   ]
  },
  {
   "cell_type": "code",
   "execution_count": null,
   "metadata": {
    "_uuid": "a07b101fa4c5a19d3a02fa840b87ed18d27ca29f",
    "collapsed": true
   },
   "outputs": [],
   "source": [
    "validation_pId = test.loc[:, 'PassengerId']\n",
    "my_submission = pd.DataFrame(data={'PassengerId':validation_pId, 'Survived':y_valid})\n",
    "print(my_submission['Survived'].value_counts())"
   ]
  },
  {
   "cell_type": "code",
   "execution_count": null,
   "metadata": {
    "_uuid": "35ce5acabc16d6e8289c0678758e8b74c4ef5a91",
    "collapsed": true
   },
   "outputs": [],
   "source": [
    "my_submission.to_csv('submission.csv', index = False)"
   ]
  }
 ],
 "metadata": {
  "kernelspec": {
   "display_name": "Python 3",
   "language": "python",
   "name": "python3"
  },
  "language_info": {
   "codemirror_mode": {
    "name": "ipython",
    "version": 3
   },
   "file_extension": ".py",
   "mimetype": "text/x-python",
   "name": "python",
   "nbconvert_exporter": "python",
   "pygments_lexer": "ipython3",
   "version": "3.6.3"
  }
 },
 "nbformat": 4,
 "nbformat_minor": 1
}
